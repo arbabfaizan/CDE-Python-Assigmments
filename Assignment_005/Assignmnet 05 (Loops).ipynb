{
 "cells": [
  {
   "cell_type": "markdown",
   "id": "04e83829",
   "metadata": {},
   "source": [
    "# Part-5 Looping Structures Assignment"
   ]
  },
  {
   "cell_type": "markdown",
   "id": "7c09c3cf",
   "metadata": {},
   "source": [
    "1. Write a Python program to print the numbers from 1 to 10 using a for loop. "
   ]
  },
  {
   "cell_type": "code",
   "execution_count": 11,
   "id": "decbb479",
   "metadata": {},
   "outputs": [
    {
     "name": "stdout",
     "output_type": "stream",
     "text": [
      "1\n",
      "2\n",
      "3\n",
      "4\n",
      "5\n",
      "6\n",
      "7\n",
      "8\n",
      "9\n",
      "10\n"
     ]
    }
   ],
   "source": [
    "# Python program to print numbers from 1 to 10 using a for loop\n",
    "\n",
    "for number in range(1, 11):\n",
    "    print(number)\n"
   ]
  },
  {
   "cell_type": "markdown",
   "id": "6726c023",
   "metadata": {},
   "source": [
    "2. Write a Python program to print the numbers from 20 to 1 using a while loop.\n"
   ]
  },
  {
   "cell_type": "code",
   "execution_count": 12,
   "id": "4d035101",
   "metadata": {},
   "outputs": [
    {
     "name": "stdout",
     "output_type": "stream",
     "text": [
      "20\n",
      "19\n",
      "18\n",
      "17\n",
      "16\n",
      "15\n",
      "14\n",
      "13\n",
      "12\n",
      "11\n",
      "10\n",
      "9\n",
      "8\n",
      "7\n",
      "6\n",
      "5\n",
      "4\n",
      "3\n",
      "2\n",
      "1\n"
     ]
    }
   ],
   "source": [
    "# Python program to print numbers from 20 to 1 using a while loop\n",
    "\n",
    "number = 20\n",
    "while number >= 1:\n",
    "    print(number)\n",
    "    number -= 1\n"
   ]
  },
  {
   "cell_type": "markdown",
   "id": "e968741d",
   "metadata": {},
   "source": [
    "3. Write a program to print even numbers from 1 to 10. "
   ]
  },
  {
   "cell_type": "code",
   "execution_count": 13,
   "id": "9e5be263",
   "metadata": {},
   "outputs": [
    {
     "name": "stdout",
     "output_type": "stream",
     "text": [
      "2\n",
      "4\n",
      "6\n",
      "8\n",
      "10\n"
     ]
    }
   ],
   "source": [
    "# Python program to print even numbers from 1 to 10\n",
    "\n",
    "for number in range(1, 11):\n",
    "    if number % 2 == 0:\n",
    "        print(number)\n"
   ]
  },
  {
   "cell_type": "markdown",
   "id": "11731f1f",
   "metadata": {},
   "source": [
    "4. Write a program that prompts the user to enter a number n and prints all the \n",
    "numbers from 1 to n. \n"
   ]
  },
  {
   "cell_type": "code",
   "execution_count": null,
   "id": "d454538b",
   "metadata": {},
   "outputs": [],
   "source": [
    "# Python program to print numbers from 1 to n\n",
    "\n",
    "n = int(input(\"Enter a number: \"))  \n",
    "\n",
    "for number in range(1, n + 1):\n",
    "    print(number)\n"
   ]
  },
  {
   "cell_type": "markdown",
   "id": "10773444",
   "metadata": {},
   "source": [
    "5. Write a program that prompts the user to enter a number n, and then prints all the \n",
    "odd numbers between 1 and n. \n"
   ]
  },
  {
   "cell_type": "code",
   "execution_count": 15,
   "id": "ba550889",
   "metadata": {},
   "outputs": [
    {
     "name": "stdout",
     "output_type": "stream",
     "text": [
      "1\n",
      "3\n",
      "5\n",
      "7\n",
      "9\n"
     ]
    }
   ],
   "source": [
    "# Python program to print all odd numbers between 1 and n\n",
    "\n",
    "n = int(input(\"Enter a number: \"))  \n",
    "\n",
    "for number in range(1, n + 1):\n",
    "    if number % 2 != 0: \n",
    "        print(number)\n"
   ]
  },
  {
   "cell_type": "markdown",
   "id": "63334c78",
   "metadata": {},
   "source": [
    "6. Write a program that prints 'Happy Birthday!' five times on screen. "
   ]
  },
  {
   "cell_type": "code",
   "execution_count": 16,
   "id": "97d65403",
   "metadata": {},
   "outputs": [
    {
     "name": "stdout",
     "output_type": "stream",
     "text": [
      "Happy Birthday!\n",
      "Happy Birthday!\n",
      "Happy Birthday!\n",
      "Happy Birthday!\n",
      "Happy Birthday!\n"
     ]
    }
   ],
   "source": [
    "# Python program to print 'Happy Birthday!' five times\n",
    "\n",
    "for _ in range(5):\n",
    "    print(\"Happy Birthday!\")\n"
   ]
  },
  {
   "cell_type": "markdown",
   "id": "f4798e41",
   "metadata": {},
   "source": []
  },
  {
   "cell_type": "code",
   "execution_count": 19,
   "id": "87623d5f",
   "metadata": {},
   "outputs": [
    {
     "name": "stdout",
     "output_type": "stream",
     "text": [
      "Enter numbers only!\n"
     ]
    }
   ],
   "source": [
    "# Python program to generate the first n terms of the series of squares of natural numbers\n",
    "try:\n",
    "    n = int(input(\"Enter a number: \"))  \n",
    "\n",
    "    print(f\"The first {n} terms of the series are: \")\n",
    "    for i in range(1, n + 1):\n",
    "        print(i ** 2, end=\" \")\n",
    "except Exception as e:\n",
    "    print(\"Enter numbers only!\")"
   ]
  },
  {
   "cell_type": "markdown",
   "id": "abea4712",
   "metadata": {},
   "source": [
    "8. Write a program that prompts the user to input a number and prints its multiplication \n",
    "table. \n"
   ]
  },
  {
   "cell_type": "code",
   "execution_count": 22,
   "id": "9dcbf3c3",
   "metadata": {},
   "outputs": [
    {
     "name": "stdout",
     "output_type": "stream",
     "text": [
      "Multiplication table for 5:\n",
      "5 x 1 = 5\n",
      "5 x 2 = 10\n",
      "5 x 3 = 15\n",
      "5 x 4 = 20\n",
      "5 x 5 = 25\n",
      "5 x 6 = 30\n",
      "5 x 7 = 35\n",
      "5 x 8 = 40\n",
      "5 x 9 = 45\n",
      "5 x 10 = 50\n"
     ]
    }
   ],
   "source": [
    "# Python program to print the multiplication table of a given number\n",
    "\n",
    "n = int(input(\"Enter a number: \"))  # Prompt user for inpu\n",
    "\n",
    "\n",
    "print(f\"Multiplication table for {n}:\")\n",
    "for i in range(1, 11):  # Loop to generate multiplication table from 1 to 10\n",
    "    print(f\"{n} x {i} = {n * i}\")\n",
    "\n"
   ]
  },
  {
   "cell_type": "markdown",
   "id": "822b40e7",
   "metadata": {},
   "source": [
    "9. Write a Python program to print the first 8 terms of an arithmetic progression starting with 3 and having a common difference of 4. The program should output the following sequence: 3 7 11 15 19 23 27 31"
   ]
  },
  {
   "cell_type": "code",
   "execution_count": 23,
   "id": "3a82facf",
   "metadata": {},
   "outputs": [
    {
     "name": "stdout",
     "output_type": "stream",
     "text": [
      "The first 8 terms of the arithmetic progression are:\n",
      "3 7 11 15 19 23 27 31 "
     ]
    }
   ],
   "source": [
    "# Python program to print the first 8 terms of an arithmetic progression\n",
    "\n",
    "start = 3  # First term of the AP\n",
    "difference = 4  # Common difference\n",
    "terms = 8  # Number of terms to print\n",
    "\n",
    "print(f\"The first {terms} terms of the arithmetic progression are:\")\n",
    "for i in range(terms):\n",
    "    print(start + i * difference, end=\" \")\n"
   ]
  },
  {
   "cell_type": "markdown",
   "id": "46ffb96d",
   "metadata": {},
   "source": [
    "10. Write a Python program to print the first 6 terms of a geometric sequence starting with 2 and having a common ratio of 3. The program should output the following sequence: 2 6 18 54 162 486"
   ]
  },
  {
   "cell_type": "code",
   "execution_count": 24,
   "id": "838ea9b3",
   "metadata": {},
   "outputs": [
    {
     "name": "stdout",
     "output_type": "stream",
     "text": [
      "The first 6 terms of the geometric sequence are:\n",
      "2 6 18 54 162 486 "
     ]
    }
   ],
   "source": [
    "# Python program to print the first 6 terms of a geometric sequence\n",
    "\n",
    "start = 2  # First term of the geometric sequence\n",
    "ratio = 3  # Common ratio\n",
    "terms = 6  # Number of terms to print\n",
    "\n",
    "print(f\"The first {terms} terms of the geometric sequence are:\")\n",
    "for i in range(terms):\n",
    "    print(start * (ratio ** i), end=\" \")\n"
   ]
  },
  {
   "cell_type": "markdown",
   "id": "019094c7",
   "metadata": {},
   "source": [
    "11. Write a program that asks the user for a positive integer value. The program should calculate the sum of all the integers from 1 up to the number entered. For example, if the user enters 20, the loop will find the sum of 1, 2, 3, 4, ... 20."
   ]
  },
  {
   "cell_type": "code",
   "execution_count": 26,
   "id": "2fc0c030",
   "metadata": {},
   "outputs": [
    {
     "name": "stdout",
     "output_type": "stream",
     "text": [
      "The sum of all integers from 1 to 20 is: 210\n"
     ]
    }
   ],
   "source": [
    "# Python program to calculate the sum of integers from 1 to the entered number\n",
    "\n",
    "# Prompt user for a positive integer\n",
    "n = int(input(\"Enter a positive integer: \"))\n",
    "\n",
    "# Check if the number is positive\n",
    "if n > 0:\n",
    "    total_sum = 0  # Initialize sum\n",
    "    for i in range(1, n + 1):  # Loop from 1 to n\n",
    "        total_sum += i  # Add each number to the sum\n",
    "    \n",
    "    print(f\"The sum of all integers from 1 to {n} is: {total_sum}\")\n",
    "else:\n",
    "    print(\"Please enter a positive integer.\")\n"
   ]
  },
  {
   "cell_type": "markdown",
   "id": "4f53c88b",
   "metadata": {},
   "source": [
    "12. write a program that takes a positive integer N as input and calculates the sum of the reciprocals of all numbers from 1 up to N. The program should display the final sum."
   ]
  },
  {
   "cell_type": "code",
   "execution_count": 28,
   "id": "d80d2049",
   "metadata": {},
   "outputs": [
    {
     "name": "stdout",
     "output_type": "stream",
     "text": [
      "The sum of reciprocals from 1 to 5 is: 2.28\n"
     ]
    }
   ],
   "source": [
    "# Python program to calculate the sum of reciprocals from 1 to N\n",
    "\n",
    "# Prompt the user for a positive integer\n",
    "N = int(input(\"Enter a positive integer: \"))\n",
    "\n",
    "# Check if the entered number is positive\n",
    "if N > 0:\n",
    "    reciprocal_sum = 0  # Initialize the sum variable\n",
    "    for i in range(1, N + 1):  # Loop from 1 to N\n",
    "        reciprocal_sum += 1 / i  # Add the reciprocal of i to the sum\n",
    "    \n",
    "    # Print the sum rounded to two decimal places\n",
    "    print(f\"The sum of reciprocals from 1 to {N} is: {reciprocal_sum:.2f}\")\n",
    "else:\n",
    "    print(\"Please enter a positive integer.\")\n"
   ]
  },
  {
   "cell_type": "markdown",
   "id": "f30556ce",
   "metadata": {},
   "source": [
    "13. Write a program that prompts the user to enter a number and repeats this process 5 times. The program should accumulate the numbers entered and then display the final running total.\n",
    "- Sample Output: \n",
    "- Enter a number: 10\n",
    "-  Enter a number: 15 \n",
    "- Enter a number: 35 \n",
    "- Enter a number: 40 \n",
    "- Enter a number: 50 \n",
    "- The final running total is: 150"
   ]
  },
  {
   "cell_type": "code",
   "execution_count": 5,
   "id": "11e2f654",
   "metadata": {},
   "outputs": [
    {
     "name": "stdout",
     "output_type": "stream",
     "text": [
      "The final running total is: 150\n"
     ]
    }
   ],
   "source": [
    "# Python program to accumulate numbers entered 5 times\n",
    "\n",
    "total_sum = 0  # Initialize the total sum\n",
    "\n",
    "# Loop to repeat the process 5 times\n",
    "for i in range(5):\n",
    "    num = int(input(\"Enter a number: \"))  # Prompt the user to enter a number\n",
    "    total_sum += num  # Add the entered number to the total sum\n",
    "\n",
    "# Print the final running total\n",
    "print(f\"The final running total is: {total_sum}\")\n"
   ]
  },
  {
   "cell_type": "markdown",
   "id": "6aca4c9a",
   "metadata": {},
   "source": [
    "14. Write a program that prompts the user to enter a positive integer and calculates its factorial. The factorial of a positive integer 'n' is denoted as 'n!' and is calculated by multiplying all the integers from 1 to 'n' together. For example, the factorial of 5 (denoted as 5!) is calculated as 1 x 2 x 3 x 4 x 5."
   ]
  },
  {
   "cell_type": "code",
   "execution_count": 9,
   "id": "6def487a",
   "metadata": {},
   "outputs": [
    {
     "name": "stdout",
     "output_type": "stream",
     "text": [
      "Factorial does not exist for negative numbers.\n"
     ]
    }
   ],
   "source": [
    "# Python program to calculate the factorial of a positive integer\n",
    "\n",
    "# Prompt the user to enter a positive integer\n",
    "n = int(input(\"Enter a positive integer: \"))\n",
    "\n",
    "# Check if the entered number is negative\n",
    "if n < 0:\n",
    "    print(\"Factorial does not exist for negative numbers.\")\n",
    "# Check if the entered number is zero\n",
    "elif n == 0:\n",
    "    print(\"The factorial of 0 is: 1\")\n",
    "# Calculate the factorial for positive integers\n",
    "else:\n",
    "    factorial = 1  # Initialize the factorial variable to 1\n",
    "    for i in range(1, n + 1):  # Loop from 1 to n\n",
    "        factorial *= i  # Multiply the current value of factorial by i\n",
    "    \n",
    "    # Print the factorial\n",
    "    print(f\"The factorial of {n} is: {factorial}\")\n"
   ]
  },
  {
   "cell_type": "markdown",
   "id": "3c53cc8c",
   "metadata": {},
   "source": [
    "15. Write a Python program that prompts the user to enter a base number and an \n",
    "exponent, and then calculates the power of the base to the exponent. The program \n",
    "should not use the exponentiation operator (**) or the math.pow() function. The \n",
    "program should handle both positive and negative exponents."
   ]
  },
  {
   "cell_type": "code",
   "execution_count": 10,
   "id": "050eb95e",
   "metadata": {},
   "outputs": [
    {
     "name": "stdout",
     "output_type": "stream",
     "text": [
      "5.0 raised to the power of 33 is: 1.164153218269348e+23\n"
     ]
    }
   ],
   "source": [
    "# Python program to calculate power without using ** or math.pow()\n",
    "\n",
    "# Prompt the user to enter the base number and exponent\n",
    "base = float(input(\"Enter the base number: \"))\n",
    "exponent = int(input(\"Enter the exponent: \"))\n",
    "\n",
    "# Function to calculate power\n",
    "def power(base, exponent):\n",
    "    result = 1  # Initialize result to 1 (for multiplication)\n",
    "    \n",
    "    # If exponent is positive\n",
    "    if exponent > 0:\n",
    "        for _ in range(exponent):\n",
    "            result *= base\n",
    "    # If exponent is negative\n",
    "    elif exponent < 0:\n",
    "        for _ in range(abs(exponent)):\n",
    "            result *= base\n",
    "        result = 1 / result  # Take the reciprocal for negative exponents\n",
    "    # If exponent is 0, any number to the power of 0 is 1\n",
    "    else:\n",
    "        result = 1\n",
    "    \n",
    "    return result\n",
    "\n",
    "# Calculate the power using the custom function\n",
    "result = power(base, exponent)\n",
    "\n",
    "# Display the result\n",
    "print(f\"{base} raised to the power of {exponent} is: {result}\")\n"
   ]
  },
  {
   "cell_type": "code",
   "execution_count": null,
   "id": "ac0dfb50",
   "metadata": {},
   "outputs": [],
   "source": []
  }
 ],
 "metadata": {
  "kernelspec": {
   "display_name": "base",
   "language": "python",
   "name": "python3"
  },
  "language_info": {
   "codemirror_mode": {
    "name": "ipython",
    "version": 3
   },
   "file_extension": ".py",
   "mimetype": "text/x-python",
   "name": "python",
   "nbconvert_exporter": "python",
   "pygments_lexer": "ipython3",
   "version": "3.13.5"
  }
 },
 "nbformat": 4,
 "nbformat_minor": 5
}
