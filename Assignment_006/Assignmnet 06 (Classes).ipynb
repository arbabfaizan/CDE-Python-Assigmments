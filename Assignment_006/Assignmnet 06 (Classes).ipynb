{
  "cells": [
    {
      "cell_type": "markdown",
      "metadata": {
        "id": "XLFr4w_7OFN7"
      },
      "source": [
        "1. Write a Python program to create a class representing a Circle. Include methods to calculate its area and perimeter."
      ]
    },
    {
      "cell_type": "code",
      "execution_count": 1,
      "metadata": {},
      "outputs": [
        {
          "name": "stdout",
          "output_type": "stream",
          "text": [
            "The area of the circle with radius 50.0 is: 7853.98\n",
            "The perimeter (circumference) of the circle with radius 50.0 is: 314.16\n"
          ]
        }
      ],
      "source": [
        "import math  # Importing math module for pi and square root\n",
        "\n",
        "# Define the Circle class\n",
        "class Circle:\n",
        "    def __init__(self, radius):\n",
        "        \"\"\"Constructor to initialize the radius of the circle.\"\"\"\n",
        "        self.radius = radius\n",
        "    \n",
        "    def area(self):\n",
        "        \"\"\"Method to calculate the area of the circle.\"\"\"\n",
        "        return math.pi * self.radius ** 2\n",
        "    \n",
        "    def perimeter(self):\n",
        "        \"\"\"Method to calculate the perimeter (circumference) of the circle.\"\"\"\n",
        "        return 2 * math.pi * self.radius\n",
        "\n",
        "# Example usage:\n",
        "# Prompt the user to enter the radius\n",
        "radius = float(input(\"Enter the radius of the circle: \"))\n",
        "\n",
        "# Create an object of the Circle class\n",
        "circle = Circle(radius)\n",
        "\n",
        "# Calculate and display the area and perimeter\n",
        "print(f\"The area of the circle with radius {radius} is: {circle.area():.2f}\")\n",
        "print(f\"The perimeter (circumference) of the circle with radius {radius} is: {circle.perimeter():.2f}\")\n"
      ]
    },
    {
      "cell_type": "markdown",
      "metadata": {
        "id": "CBPk4mH4OTCO"
      },
      "source": [
        "2. Write a Python program to create a person class. Include attributes like name, country and date of birth. Implement a method to determine the person's age.\n"
      ]
    },
    {
      "cell_type": "code",
      "execution_count": 4,
      "metadata": {},
      "outputs": [
        {
          "name": "stdout",
          "output_type": "stream",
          "text": [
            "Name: s\n",
            "Country: ss\n",
            "Date of Birth: 2000-03-27\n",
            "Age: 25 years\n"
          ]
        }
      ],
      "source": [
        "from datetime import datetime  # Importing the datetime module to handle dates\n",
        "\n",
        "# Define the Person class\n",
        "class Person:\n",
        "    def __init__(self, name, country, date_of_birth):\n",
        "        \"\"\"Constructor to initialize the person's attributes.\"\"\"\n",
        "        self.name = name\n",
        "        self.country = country\n",
        "        self.date_of_birth = datetime.strptime(date_of_birth, '%Y-%m-%d')  # Parse date string to datetime object\n",
        "\n",
        "    def calculate_age(self):\n",
        "        \"\"\"Method to calculate the age of the person.\"\"\"\n",
        "        today = datetime.today()  # Get today's date\n",
        "        age = today.year - self.date_of_birth.year  # Calculate age based on the year\n",
        "        \n",
        "        # Check if the birthday has already passed this year\n",
        "        if today.month < self.date_of_birth.month or (today.month == self.date_of_birth.month and today.day < self.date_of_birth.day):\n",
        "            age -= 1  # If birthday hasn't occurred yet, subtract 1 from age\n",
        "        \n",
        "        return age\n",
        "\n",
        "    def display_info(self):\n",
        "        \"\"\"Method to display the person's information.\"\"\"\n",
        "        age = self.calculate_age()\n",
        "        print(f\"Name: {self.name}\")\n",
        "        print(f\"Country: {self.country}\")\n",
        "        print(f\"Date of Birth: {self.date_of_birth.strftime('%Y-%m-%d')}\")\n",
        "        print(f\"Age: {age} years\")\n",
        "\n",
        "# Example usage\n",
        "# Prompt the user to enter the person's details\n",
        "name = input(\"Enter the name: \")\n",
        "country = input(\"Enter the country: \")\n",
        "date_of_birth = input(\"Enter the date of birth (YYYY-MM-DD): \")\n",
        "\n",
        "# Create an object of the Person class\n",
        "person = Person(name, country, date_of_birth)\n",
        "\n",
        "# Display the person's information\n",
        "person.display_info()\n"
      ]
    },
    {
      "cell_type": "markdown",
      "metadata": {},
      "source": [
        "3. Write a Python program to create a calculator class. Include methods for basic arithmetic operations."
      ]
    },
    {
      "cell_type": "code",
      "execution_count": 5,
      "metadata": {},
      "outputs": [
        {
          "name": "stdout",
          "output_type": "stream",
          "text": [
            "Select operation:\n",
            "1. Add\n",
            "2. Subtract\n",
            "3. Multiply\n",
            "4. Divide\n",
            "The result of addition is: 3.0\n"
          ]
        }
      ],
      "source": [
        "# Define the Calculator class\n",
        "class Calculator:\n",
        "    def __init__(self):\n",
        "        \"\"\"Constructor to initialize the calculator.\"\"\"\n",
        "        pass\n",
        "    \n",
        "    def add(self, num1, num2):\n",
        "        \"\"\"Method to add two numbers.\"\"\"\n",
        "        return num1 + num2\n",
        "    \n",
        "    def subtract(self, num1, num2):\n",
        "        \"\"\"Method to subtract the second number from the first.\"\"\"\n",
        "        return num1 - num2\n",
        "    \n",
        "    def multiply(self, num1, num2):\n",
        "        \"\"\"Method to multiply two numbers.\"\"\"\n",
        "        return num1 * num2\n",
        "    \n",
        "    def divide(self, num1, num2):\n",
        "        \"\"\"Method to divide the first number by the second.\"\"\"\n",
        "        if num2 == 0:\n",
        "            return \"Error: Division by zero is not allowed.\"\n",
        "        return num1 / num2\n",
        "\n",
        "# Example usage\n",
        "# Create an object of the Calculator class\n",
        "calc = Calculator()\n",
        "\n",
        "# Prompt the user for the operation and numbers\n",
        "print(\"Select operation:\")\n",
        "print(\"1. Add\")\n",
        "print(\"2. Subtract\")\n",
        "print(\"3. Multiply\")\n",
        "print(\"4. Divide\")\n",
        "\n",
        "operation = input(\"Enter choice (1/2/3/4): \")\n",
        "\n",
        "# Get numbers from the user\n",
        "num1 = float(input(\"Enter the first number: \"))\n",
        "num2 = float(input(\"Enter the second number: \"))\n",
        "\n",
        "# Perform the chosen operation\n",
        "if operation == '1':\n",
        "    print(f\"The result of addition is: {calc.add(num1, num2)}\")\n",
        "elif operation == '2':\n",
        "    print(f\"The result of subtraction is: {calc.subtract(num1, num2)}\")\n",
        "elif operation == '3':\n",
        "    print(f\"The result of multiplication is: {calc.multiply(num1, num2)}\")\n",
        "elif operation == '4':\n",
        "    print(f\"The result of division is: {calc.divide(num1, num2)}\")\n",
        "else:\n",
        "    print(\"Invalid input, please select a valid operation.\")\n"
      ]
    },
    {
      "cell_type": "code",
      "execution_count": null,
      "metadata": {},
      "outputs": [],
      "source": []
    }
  ],
  "metadata": {
    "colab": {
      "provenance": []
    },
    "kernelspec": {
      "display_name": "base",
      "language": "python",
      "name": "python3"
    },
    "language_info": {
      "codemirror_mode": {
        "name": "ipython",
        "version": 3
      },
      "file_extension": ".py",
      "mimetype": "text/x-python",
      "name": "python",
      "nbconvert_exporter": "python",
      "pygments_lexer": "ipython3",
      "version": "3.13.5"
    }
  },
  "nbformat": 4,
  "nbformat_minor": 0
}
