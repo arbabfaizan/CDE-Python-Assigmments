{
 "cells": [
  {
   "cell_type": "markdown",
   "id": "c8a45ce3",
   "metadata": {
    "vscode": {
     "languageId": "plaintext"
    }
   },
   "source": [
    "# Part - 3 Strings Assignments \n"
   ]
  },
  {
   "cell_type": "markdown",
   "id": "51bb8514",
   "metadata": {},
   "source": [
    "1. Write a program that accepts a string from user. Your program should count and display number of\n",
    "vowels in that string. \n"
   ]
  },
  {
   "cell_type": "code",
   "execution_count": 8,
   "id": "2a11a6e9",
   "metadata": {},
   "outputs": [
    {
     "name": "stdout",
     "output_type": "stream",
     "text": [
      "********** Vowel Counter Program **********\n",
      "\n",
      "\n",
      "Your string: #\n",
      "Total number of vowels = 0\n",
      "\n",
      "Thanks for using the program!\n"
     ]
    }
   ],
   "source": [
    "print(\"********** Vowel Counter Program **********\\n\")\n",
    "\n",
    "try:\n",
    "  \n",
    "    user_input = input(\"Enter any string: \")\n",
    "\n",
    " \n",
    "    vowels = \"aeiouAEIOU\"\n",
    "    count = 0   \n",
    "\n",
    "   \n",
    "    for ch in user_input:\n",
    "        if ch in vowels:\n",
    "            count += 1\n",
    "\n",
    "   \n",
    "    print(f\"\\nYour string: {user_input}\")\n",
    "    print(f\"Total number of vowels = {count}\")\n",
    "\n",
    "    print(\"\\nThanks for using the program!\")\n",
    "\n",
    "except Exception as e:\n",
    "    print(\"Please enter a valid input!\")\n"
   ]
  },
  {
   "cell_type": "markdown",
   "id": "d5cae4bf",
   "metadata": {},
   "source": [
    "\n",
    " 2. Write a program that reads a string from keyboard and display:\n",
    "* The number of uppercase letters in the string\n",
    "* The number of lowercase letters in the string\n",
    "* The number of digits in the string\n",
    "* The number of whitespace characters in the string\n"
   ]
  },
  {
   "cell_type": "code",
   "execution_count": 15,
   "id": "3a075c29",
   "metadata": {},
   "outputs": [
    {
     "name": "stdout",
     "output_type": "stream",
     "text": [
      "********** Character Type Counter Program **********\n",
      "\n",
      "\n",
      "Your string: 5\n",
      "Number of uppercase letters: 0\n",
      "Number of lowercase letters: 0\n",
      "Number of digits: 1\n",
      "Number of whitespace characters: 0\n",
      "Number of special characters: 0\n",
      "\n",
      "Thanks for using the program!\n"
     ]
    }
   ],
   "source": [
    "# ==============Assignment Solution ==============\n",
    "print(\"********** Character Type Counter Program **********\\n\") \n",
    "try:\n",
    "    uppercase_count = 0\n",
    "    lowercase_count = 0\n",
    "    digit_count = 0\n",
    "    whitespace_count = 0\n",
    "    special_char_count = 0\n",
    "    user_input = input(\"Enter Any String: \")\n",
    "    for ch in user_input:\n",
    "        if ch.isupper():\n",
    "            uppercase_count += 1\n",
    "        elif ch.islower():\n",
    "            lowercase_count += 1\n",
    "        elif ch.isdigit():\n",
    "            digit_count += 1\n",
    "        elif ch.isspace():\n",
    "            whitespace_count += 1\n",
    "        else:\n",
    "            special_char_count += 1\n",
    "           \n",
    "    print(f\"\\nYour string: {user_input}\")\n",
    "    print(f\"Number of uppercase letters: {uppercase_count}\")    \n",
    "    print(f\"Number of lowercase letters: {lowercase_count}\")\n",
    "    print(f\"Number of digits: {digit_count}\")\n",
    "    print(f\"Number of whitespace characters: {whitespace_count}\")\n",
    "    print(f\"Number of special characters: {special_char_count}\")\n",
    "    print(\"\\nThanks for using the program!\")\n",
    "except Exception as e:\n",
    "    print(\"Please enter a valid input!\")\n",
    "\n"
   ]
  },
  {
   "cell_type": "markdown",
   "id": "11459e66",
   "metadata": {},
   "source": [
    " 3. Write a Python program that accepts a string from user. Your program should create and display a\n",
    "new string where the first and last characters have been exchanged.\n",
    "For example if the user enters the string 'HELLO' then new string would be 'OELLH' \n"
   ]
  },
  {
   "cell_type": "code",
   "execution_count": 1,
   "id": "fd354dfb",
   "metadata": {},
   "outputs": [
    {
     "name": "stdout",
     "output_type": "stream",
     "text": [
      "********** First and Last Character Exchange Program **********\n",
      "\n",
      "String length should be at least 2 characters.\n",
      "\n",
      "Thanks for using the program!\n"
     ]
    }
   ],
   "source": [
    "# ==============Assignment Solution ==============\n",
    "print(\"********** First and Last Character Exchange Program **********\\n\")\n",
    "try:\n",
    "    user_input = input(\"Enter Any String: \")\n",
    "    if len(user_input) < 2:\n",
    "        print(\"String length should be at least 2 characters.\")\n",
    "    else:\n",
    "        new_string = user_input[-1] + user_input[1:-1] + user_input[0]\n",
    "        print(f\"\\nYour string: {user_input}\")\n",
    "        print(f\"New string after exchanging first and last characters: {new_string}\")\n",
    "    print(\"\\nThanks for using the program!\")\n",
    "except Exception as e:\n",
    "    print(\"Please enter a valid input!\")"
   ]
  },
  {
   "cell_type": "markdown",
   "id": "48efcdd0",
   "metadata": {},
   "source": [
    "4. Write a Python program that accepts a string from user. Your program should create a new string in \n",
    "reverse of first string and display it. \n",
    "For example if the user enters the string 'EXAM' then new string would be 'MAXE' "
   ]
  },
  {
   "cell_type": "code",
   "execution_count": 6,
   "id": "2c39d3c1",
   "metadata": {},
   "outputs": [
    {
     "name": "stdout",
     "output_type": "stream",
     "text": [
      " ********* String Reversed Program *********\n",
      "\n",
      "You're Input String Is:  ffwefew\n",
      "\n",
      "You're Reversed String Value Is:  wefewff\n",
      "\n",
      "Thanks For Using Program....\n"
     ]
    }
   ],
   "source": [
    "# ==============Assignment Solution================\n",
    "print(\" ********* String Reversed Program *********\")\n",
    "try:\n",
    "    input_string = input(\"Enter String Value: \")\n",
    "    reversed_string = input_string[::-1]\n",
    "    print(\"\\nYou're Input String Is: \", input_string)\n",
    "    print(f\"\\nYou're Reversed String Value Is: \", reversed_string)\n",
    "    print(\"\\nThanks For Using Program....\")\n",
    "except Exception as  e:\n",
    "    print(\"Invalid Value\")"
   ]
  },
  {
   "cell_type": "markdown",
   "id": "8172a20d",
   "metadata": {},
   "source": [
    "5.Write a Python program that accepts a string from user. Your program should create a new string by \n",
    "shifting one position to left. \n",
    "For example if the user enters the string 'examination 2021' then new string would be 'xamination \n",
    "2021e' \n"
   ]
  },
  {
   "cell_type": "code",
   "execution_count": 5,
   "id": "a5129098",
   "metadata": {},
   "outputs": [
    {
     "name": "stdout",
     "output_type": "stream",
     "text": [
      "********* Left Shift String Program *********\n",
      "\n",
      "You're Input String Is:  feqfwefew\n",
      "\n",
      "String after shifting one position to the left: eqfwefewf\n",
      "\n",
      "Thanks For Using Program.........\n"
     ]
    }
   ],
   "source": [
    "# ===========Assignment Solution==============\n",
    "print(\"********* Left Shift String Program *********\")\n",
    "\n",
    "try:\n",
    "    input_string = input(\"Enter a string: \")\n",
    "    \n",
    "    if len(input_string) > 0:\n",
    "       \n",
    "        shifted_string = input_string[1:] + input_string[0]\n",
    "        print(\"\\nYou're Input String Is: \",input_string) \n",
    "        print(f\"\\nString after shifting one position to the left: {shifted_string}\")\n",
    "        print(\"\\nThanks For Using Program.........\") \n",
    "          \n",
    "    else:\n",
    "        print(\"Empty string entered.\")\n",
    "except Exception as e:\n",
    "    print(\"An error occurred:\", e)\n"
   ]
  },
  {
   "cell_type": "markdown",
   "id": "9ef57dfb",
   "metadata": {},
   "source": [
    " 6. Write a program that asks the user to input his name and print its initials. Assuming that the user\n",
    "always types first name, middle name and last name and does not include any unnecessary spaces.\n",
    "For example, if the user enters Ajay Kumar Garg the program should display A. K. G.\n",
    "Note:Don't use split() method \n"
   ]
  },
  {
   "cell_type": "code",
   "execution_count": 12,
   "id": "48bec784",
   "metadata": {},
   "outputs": [
    {
     "name": "stdout",
     "output_type": "stream",
     "text": [
      "********** Name Print Initials Program **********\n",
      "\n",
      "\n",
      "You're Input Name Is:  ali hassan\n",
      "\n",
      "Your Name Initials: A. H. \n",
      "\n",
      "Thanks For Using Program.........\n"
     ]
    }
   ],
   "source": [
    "# ==============Assignment Solution================\n",
    "print(\"********** Name Print Initials Program **********\\n\")\n",
    "\n",
    "try:\n",
    "    name = input(\"Enter Your Full Name: \").strip()\n",
    "\n",
    "    if name:\n",
    "        initials = name[0].upper() + \". \"   \n",
    "\n",
    "       \n",
    "        for i in range(len(name)):\n",
    "            if name[i] == \" \" and i + 1 < len(name):   \n",
    "                initials += name[i+1].upper() + \". \"   \n",
    "\n",
    "        print(\"\\nYou're Input Name Is: \", name)\n",
    "        print(f\"\\nYour Name Initials: {initials}\")\n",
    "    else:\n",
    "        print(\"No name entered.\")\n",
    "\n",
    "    print(\"\\nThanks For Using Program.........\")\n",
    "except Exception as e:\n",
    "    print(\"An error occurred:\", e)"
   ]
  },
  {
   "cell_type": "markdown",
   "id": "2019ff94",
   "metadata": {},
   "source": [
    "7. A palindrome is a string that reads the same backward as forward. For example, the words dad,\n",
    "madam and radar are all palindromes. Write a programs that determines whether the string is a\n",
    "palindrome.\n",
    "Note: do not use reverse() method"
   ]
  },
  {
   "cell_type": "code",
   "execution_count": 16,
   "id": "b6d78ad5",
   "metadata": {},
   "outputs": [
    {
     "name": "stdout",
     "output_type": "stream",
     "text": [
      "********** Palindrome Checker Program **********\n",
      "\n",
      "No! 'hello' is NOT a Palindrome.\n",
      "\n",
      "Thanks For Using Palindrome Checker\n"
     ]
    }
   ],
   "source": [
    "print(\"********** Palindrome Checker Program **********\\n\")\n",
    "\n",
    "try:\n",
    "    user_input = input(\"Enter any string: \").strip()\n",
    "\n",
    "    reversed_str = \"\"\n",
    "    for ch in user_input:       \n",
    "        reversed_str = ch + reversed_str\n",
    "\n",
    "    if user_input == reversed_str:\n",
    "        print(f\"Yes! '{user_input}' is a Palindrome.\")\n",
    "    else:\n",
    "        print(f\"No! '{user_input}' is NOT a Palindrome.\")\n",
    "\n",
    "    print(\"\\nThanks For Using Palindrome Checker\")\n",
    "\n",
    "except Exception as e:\n",
    "    print(\"Error:\", e)\n"
   ]
  },
  {
   "cell_type": "markdown",
   "id": "4ebb563b",
   "metadata": {},
   "source": [
    "8. Write a program that display following output:\n",
    "SHIFT\n",
    "HIFTS\n",
    "IFTSH\n",
    "FTSHI\n",
    "TSHIF\n",
    "SHIFT \n"
   ]
  },
  {
   "cell_type": "code",
   "execution_count": 22,
   "id": "17203b67",
   "metadata": {},
   "outputs": [
    {
     "name": "stdout",
     "output_type": "stream",
     "text": [
      " ********* String Rotation Program *********\n",
      "String contains the word 'SHIFT'. Performing left rotation.\n",
      "\n",
      "Your Input String Is: Shift\n",
      "\n",
      "String after shifting one position to the left: hiftS\n",
      "\n",
      "Thanks For Using Program.........\n"
     ]
    }
   ],
   "source": [
    "# ==============Assignment Solution================\n",
    "print(\" ********* String Rotation Program *********\")\n",
    "\n",
    "try:\n",
    "    input_string = input(\"Enter String Value: \").strip()\n",
    "    word = \"SHIFT\"\n",
    "\n",
    "    if word in input_string.upper():  \n",
    "        print(\"String contains the word 'SHIFT'. Performing left rotation.\")\n",
    "        \n",
    "        shifted_string = input_string[1:] + input_string[0]  \n",
    "        print(\"\\nYour Input String Is:\", input_string)\n",
    "        print(f\"\\nString after shifting one position to the left: {shifted_string}\")\n",
    "        print(\"\\nThanks For Using Program.........\")\n",
    "\n",
    "    elif len(input_string) > 0:  \n",
    "        shifted_string = input_string[1:] + input_string[0]\n",
    "        print(\"\\nYour Input String Is:\", input_string)\n",
    "        print(f\"\\nString after shifting one position to the left: {shifted_string}\")\n",
    "        print(\"\\nThanks For Using Program.........\")\n",
    "\n",
    "    else:\n",
    "        print(\"\\nEmpty string entered. No rotation performed.\")\n",
    "        print(\"\\nThanks For Using Program.........\")\n",
    "except Exception as e:\n",
    "    print(\"An error occurred:\", e)\n"
   ]
  },
  {
   "cell_type": "markdown",
   "id": "3239e04f",
   "metadata": {},
   "source": [
    "9. Write a program in python that accepts a string to setup a passwords. Your entered password must\n",
    "meet the following requirements: "
   ]
  },
  {
   "cell_type": "code",
   "execution_count": null,
   "id": "db2ca83b",
   "metadata": {},
   "outputs": [
    {
     "name": "stdout",
     "output_type": "stream",
     "text": [
      "********** Password Setup Program **********\n",
      "\n",
      "Password is valid and accepted!\n",
      "\n",
      "Thanks For Using Password Setup Program.........\n"
     ]
    }
   ],
   "source": [
    "# ============== Assignment Solution ==============\n",
    "print(\"********** Password Setup Program **********\\n\")\n",
    "\n",
    "import re   \n",
    "\n",
    "try:\n",
    "    password = input(\"Enter Your Password: \")\n",
    "    c_password = input(\"Confirm Your Password: \")\n",
    "    \n",
    "    # Password strength checks\n",
    "    if len(password) < 8:\n",
    "        print(\"Password must be at least 8 characters long.\")\n",
    "    elif not re.search(\"[A-Z]\", password):\n",
    "        \n",
    "        print(\"Password must contain at least one uppercase letter.\")\n",
    "    elif not re.search(\"[a-z]\", password):\n",
    "        print(\"Password must contain at least one lowercase letter.\")\n",
    "    elif not re.search(\"[0-9]\", password):\n",
    "        print(\"Password must contain at least one digit.\")\n",
    "    elif not re.search(\"[@#$%^&+=!]\", password):\n",
    "        print(\"Password must contain at least one special character (@#$%^&+=!).\")\n",
    "    elif password != c_password:\n",
    "        print(\"Passwords do not match.\")\n",
    "    else:\n",
    "        print(\"Password is valid and accepted!\")\n",
    "\n",
    "except Exception as e:\n",
    "    print(\"Error:\", e)\n",
    "\n",
    "finally:\n",
    "    print(\"\\nThanks For Using Password Setup Program.........\")\n"
   ]
  },
  {
   "cell_type": "code",
   "execution_count": null,
   "id": "4a449f47",
   "metadata": {},
   "outputs": [],
   "source": []
  },
  {
   "cell_type": "code",
   "execution_count": null,
   "id": "d131fba3",
   "metadata": {},
   "outputs": [],
   "source": []
  }
 ],
 "metadata": {
  "kernelspec": {
   "display_name": "base",
   "language": "python",
   "name": "python3"
  },
  "language_info": {
   "codemirror_mode": {
    "name": "ipython",
    "version": 3
   },
   "file_extension": ".py",
   "mimetype": "text/x-python",
   "name": "python",
   "nbconvert_exporter": "python",
   "pygments_lexer": "ipython3",
   "version": "3.13.5"
  }
 },
 "nbformat": 4,
 "nbformat_minor": 5
}
