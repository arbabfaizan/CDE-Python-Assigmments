{
 "cells": [
  {
   "cell_type": "markdown",
   "id": "39355377",
   "metadata": {},
   "source": [
    "# Part-4 List Assignment"
   ]
  },
  {
   "cell_type": "markdown",
   "id": "4eccbc24",
   "metadata": {},
   "source": [
    "1. Write a program that accepts a list from user and print the alternate element of list. \n"
   ]
  },
  {
   "cell_type": "code",
   "execution_count": 12,
   "id": "69f018d3",
   "metadata": {},
   "outputs": [
    {
     "name": "stdout",
     "output_type": "stream",
     "text": [
      "********** Alternate Elements of List **********\n",
      "\n"
     ]
    },
    {
     "name": "stdout",
     "output_type": "stream",
     "text": [
      "\n",
      "Your List: ['dfcsdgfds']\n",
      "\n",
      "Alternate Elements of List:\n",
      "dfcsdgfds\n",
      "\n",
      "**********Thanks For Using Program**************\n"
     ]
    }
   ],
   "source": [
    "# ============== Assignment Solution ==============\n",
    "\n",
    "print(\"********** Alternate Elements of List **********\\n\")\n",
    "\n",
    "try:\n",
    "\n",
    "    user_input = input(\"Enter list elements separated by commas: \")\n",
    "\n",
    "    my_list = user_input.split(\",\")\n",
    "\n",
    "   \n",
    "    my_list = [item.strip() for item in my_list]\n",
    "\n",
    "    print(\"\\nYour List:\", my_list)\n",
    "\n",
    "    \n",
    "    print(\"\\nAlternate Elements of List:\")\n",
    "    for i in range(0, len(my_list), 2):\n",
    "        print(my_list[i])\n",
    "        print(\"\\n**********Thanks For Using Program**************\")\n",
    "\n",
    "except Exception as e:\n",
    "    print(\"Error:\", e)\n"
   ]
  },
  {
   "cell_type": "markdown",
   "id": "9f6eb2a3",
   "metadata": {},
   "source": [
    "2. Write a program that accepts a list from user. Your program should reverse the content of list and\n",
    "display it. Do not use reverse() method.\n",
    "\n"
   ]
  },
  {
   "cell_type": "code",
   "execution_count": 10,
   "id": "35155bfd",
   "metadata": {},
   "outputs": [
    {
     "name": "stdout",
     "output_type": "stream",
     "text": [
      "********** Reverse List Program **********\n",
      "\n",
      "\n",
      "Orignal List:  d544czsc scc4zc\n",
      "\n",
      "Reversed List:  cz4ccs cszc445d\n",
      "\n",
      "**********Thanks For Using Program**************\n"
     ]
    }
   ],
   "source": [
    "# ============== Assignment Solution ==============\n",
    "print(\"********** Reverse List Program **********\\n\")\n",
    "\n",
    "try:\n",
    "    user_input = input(\"Enter list elements by space: \")\n",
    "    reversed_list = user_input[::-1]\n",
    "    print(\"\\nOrignal List: \",user_input )\n",
    "    print(\"\\nReversed List: \", reversed_list)\n",
    "    print(\"\\n**********Thanks For Using Program**************\")\n",
    "except Exception as e:\n",
    "    print(\"ERROR:\", e)"
   ]
  },
  {
   "cell_type": "markdown",
   "id": "66484f79",
   "metadata": {},
   "source": [
    " 3. Find and display the largest number of a list without using built-in function max(). Your program\n",
    "should ask the user to input values in list from keyboard. \n"
   ]
  },
  {
   "cell_type": "code",
   "execution_count": 21,
   "id": "a4e0d615",
   "metadata": {},
   "outputs": [
    {
     "name": "stdout",
     "output_type": "stream",
     "text": [
      "\n",
      "********** Largest Number Finder **********\n",
      "\n",
      "\n",
      "Your list: [10, 30, 650, 60, 5, 0]\n",
      "\n",
      "Largest number in the list is: 650\n",
      "\n",
      "**********Thanks For Using Program**************\n"
     ]
    }
   ],
   "source": [
    "# ============== Assignment Solution ==============\n",
    "print(\"\\n********** Largest Number Finder **********\\n\")\n",
    "try:\n",
    "    numbers = input(\"Entter numbers seprated by space: \")\n",
    "    num_list = [int(x) for x in numbers.split()]\n",
    "    largest = num_list[0]\n",
    "    for num in num_list:\n",
    "        if num > largest:\n",
    "            largest = num\n",
    "    print(\"\\nYour list:\", num_list)\n",
    "    print(\"\\nLargest number in the list is:\", largest)\n",
    "    print(\"\\n**********Thanks For Using Program**************\")\n",
    "except Exception as e:\n",
    "    print(\"Please enter numbers only seprated by space \")\n",
    "    print(\"\\n**********Thanks For Using Program**************\")\n",
    "    \n",
    "    \n",
    "    "
   ]
  },
  {
   "cell_type": "markdown",
   "id": "75c3e37e",
   "metadata": {},
   "source": [
    "4. Write a program that rotates the element of a list so that the element at the first index moves to the\n",
    "second index, the element in the second index moves to the third index, etc., and the element in the last\n",
    "index moves to the first index. \n"
   ]
  },
  {
   "cell_type": "code",
   "execution_count": 10,
   "id": "1755faa9",
   "metadata": {},
   "outputs": [
    {
     "name": "stdout",
     "output_type": "stream",
     "text": [
      "********** List Rotation Program **********\n",
      "\n",
      "\n",
      "Original List: ['sacx', 'dc']\n",
      "Rotated List: ['dc', 'sacx']\n",
      "\n",
      "*********** Thanks For Using ************\n"
     ]
    }
   ],
   "source": [
    "# ===============Assigment Solution====================\n",
    "print(\"********** List Rotation Program **********\\n\")\n",
    "\n",
    "\n",
    "my_list = input(\"Enter list elements separated by space: \").split()\n",
    "\n",
    "print(\"\\nOriginal List:\", my_list)\n",
    "\n",
    "\n",
    "if len(my_list) > 0:\n",
    "    rotated_list = [my_list[-1]] + my_list[:-1]   \n",
    "    print(\"Rotated List:\", rotated_list)\n",
    "else:\n",
    "    print(\"List is empty, rotation not possible!\")\n",
    "print(\"\\n*********** Thanks For Using ************\")\n"
   ]
  },
  {
   "cell_type": "code",
   "execution_count": 20,
   "id": "cf0313c7",
   "metadata": {},
   "outputs": [
    {
     "name": "stdout",
     "output_type": "stream",
     "text": [
      "============= Program: Delete a Word from String =============\n",
      "\n",
      "      Original String: sax\n",
      "      Word to Delete: xs\n",
      "      Updated String: sax\n",
      "\n",
      "*************** Thanks For Using ****************      \n"
     ]
    }
   ],
   "source": [
    "# ===============Assigment Solution====================\n",
    "print(\"============= Program: Delete a Word from String =============\")\n",
    "input_string = input(\"Enter a string: \")\n",
    "word_to_delete = input(\"Enter a word you want to delete: \")\n",
    "updated_string = input_string.replace(word_to_delete, \"\")\n",
    "print(f\"\"\"\n",
    "      Original String: {input_string}\n",
    "      Word to Delete: {word_to_delete}\n",
    "      Updated String: {updated_string.strip()}\n",
    "\\n*************** Thanks For Using ****************      \"\"\")"
   ]
  },
  {
   "cell_type": "markdown",
   "id": "60c3c22a",
   "metadata": {},
   "source": [
    "6. Write a program that reads a string from the user containing a date in the form mm/dd/yyyy. It\n",
    "should print the date in the form March 12, 2021. \n"
   ]
  },
  {
   "cell_type": "code",
   "execution_count": 27,
   "id": "0db03545",
   "metadata": {},
   "outputs": [
    {
     "name": "stdout",
     "output_type": "stream",
     "text": [
      "********** Date Formatter Program **********\n",
      "\n",
      "Formatted Date: December 3, 2012\n",
      "\n",
      "*************** Thanks For Using ****************\n",
      "      \n"
     ]
    }
   ],
   "source": [
    "# ============== Assignment Solution ==============\n",
    "print(\"********** Date Formatter Program **********\\n\")\n",
    "\n",
    "\n",
    "months = {\n",
    "    \"01\": \"January\", \"02\": \"February\", \"03\": \"March\", \n",
    "    \"04\": \"April\",   \"05\": \"May\",      \"06\": \"June\", \n",
    "    \"07\": \"July\",    \"08\": \"August\",   \"09\": \"September\", \n",
    "    \"10\": \"October\", \"11\": \"November\", \"12\": \"December\"\n",
    "}\n",
    "\n",
    "\n",
    "date_input = input(\"Enter a date (mm/dd/yyyy): \")\n",
    "\n",
    "\n",
    "month, day, year = date_input.split(\"/\")\n",
    "\n",
    "\n",
    "month_name = months[month]\n",
    "\n",
    "\n",
    "print(f\"\"\"Formatted Date: {month_name} {int(day)}, {year}\n",
    "\\n*************** Thanks For Using ****************\n",
    "      \"\"\")\n"
   ]
  },
  {
   "cell_type": "markdown",
   "id": "ee2db5cc",
   "metadata": {},
   "source": [
    " 7. Write a program with a function that accepts a string from keyboard and create a new string after\n",
    "converting character of each word capitalized. For instance, if the sentence is \"stop and smell the roses.\"\n",
    "the output should be \"Stop And Smell The Roses\" \n"
   ]
  },
  {
   "cell_type": "code",
   "execution_count": null,
   "id": "d9a510b9",
   "metadata": {},
   "outputs": [
    {
     "name": "stdout",
     "output_type": "stream",
     "text": [
      "============= Program: Capitalize Each Word =============\n",
      "\n",
      "Original Sentence:  pyhton is program\n",
      "Capitalized Sentence:  Pyhton Is Program\n",
      "\n",
      "*************** Thanks For Using ****************   \n",
      "      \n"
     ]
    }
   ],
   "source": [
    "# =============== Assignment Solution ===============\n",
    "print(\"============= Program: Capitalize Each Word =============\")\n",
    "\n",
    "def capitalize_words(sentence):\n",
    "    return sentence.title()   \n",
    "\n",
    "\n",
    "user_input = input(\"Enter a sentence: \")\n",
    "result = capitalize_words(user_input)\n",
    "\n",
    "print(f\"\\nOriginal Sentence: {user_input}\")\n",
    "print(f\"\"\"Capitalized Sentence: {result}\n",
    "\\n*************** Thanks For Using ****************   \n",
    "      \"\"\")\n"
   ]
  },
  {
   "cell_type": "markdown",
   "id": "6e63e1d3",
   "metadata": {},
   "source": [
    "8. Find the sum of each row of matrix of size m x n. For example for the following matrix output will be\n",
    "like this :\n",
    "Sum of row 1 = 32\n",
    "Sum of row 2 = 31\n",
    "Sum of row 3 = 63\n"
   ]
  },
  {
   "cell_type": "code",
   "execution_count": 33,
   "id": "2abae884",
   "metadata": {},
   "outputs": [
    {
     "name": "stdout",
     "output_type": "stream",
     "text": [
      "Program to find sum of each row in a matrix\n",
      "Sum of row 1 = 32\n",
      "Sum of row 2 = 31\n",
      "Sum of row 3 = 63\n",
      "*************** Thanks For Using **************** \n"
     ]
    }
   ],
   "source": [
    "# ==========Assignment Solution====================\n",
    "print(\"Program to find sum of each row in a matrix\")\n",
    "\n",
    "matrix = [\n",
    "    [2, 11, 7, 12],\n",
    "    [5, 2, 9, 15],\n",
    "    [8, 3, 10, 42]\n",
    "]\n",
    "\n",
    "\n",
    "for i in range(len(matrix)):\n",
    "    row_sum = sum(matrix[i])\n",
    "    print(f\"Sum of row {i+1} = {row_sum}\")\n",
    "print(\"*************** Thanks For Using **************** \")\n"
   ]
  },
  {
   "cell_type": "markdown",
   "id": "5fd1091c",
   "metadata": {},
   "source": [
    "9. Write a program to add two matrices of size n x m.\n"
   ]
  },
  {
   "cell_type": "code",
   "execution_count": 11,
   "id": "ef47db67",
   "metadata": {},
   "outputs": [
    {
     "name": "stdout",
     "output_type": "stream",
     "text": [
      "\n",
      "Program: Add Two Matrices\n",
      "\n",
      "Enter First Matrix (each row in one line, space separated):\n",
      "\n",
      "Enter Second Matrix (each row in one line, space separated):\n",
      "\n",
      "===== Sum of Two Matrices =====\n",
      "20 60 60\n"
     ]
    }
   ],
   "source": [
    "print(\"\\nProgram: Add Two Matrices\")\n",
    "try:\n",
    "    rows = int(input(\"Enter number of rows (n): \"))\n",
    "    cols = int(input(\"Enter number of columns (m): \"))\n",
    "\n",
    "    print(\"\\nEnter First Matrix (each row in one line, space separated):\")\n",
    "    matrix1 = []\n",
    "    for i in range(rows):\n",
    "        row = list(map(int, input(f\"Row {i+1}: \").split()))\n",
    "        if len(row) != cols:\n",
    "            raise ValueError(\"Row length does not match column size!\")\n",
    "        matrix1.append(row)\n",
    "\n",
    "   \n",
    "    print(\"\\nEnter Second Matrix (each row in one line, space separated):\")\n",
    "    matrix2 = []\n",
    "    for i in range(rows):\n",
    "        row = list(map(int, input(f\"Row {i+1}: \").split()))\n",
    "        if len(row) != cols:\n",
    "            raise ValueError(\"Row length does not match column size!\")\n",
    "        matrix2.append(row)\n",
    "\n",
    "    result = []\n",
    "    for i in range(rows):\n",
    "        row = []\n",
    "        for j in range(cols):\n",
    "            row.append(matrix1[i][j] + matrix2[i][j])\n",
    "        result.append(row)\n",
    "\n",
    "    \n",
    "    print(\"\\n===== Sum of Two Matrices =====\")\n",
    "    for r in result:\n",
    "        print(\" \".join(map(str, r)))\n",
    "\n",
    "except ValueError as ve:\n",
    "    print(f\"Input Error: {ve}\")\n",
    "except Exception as e:\n",
    "    print(f\"Error: {e}\")\n"
   ]
  },
  {
   "cell_type": "markdown",
   "id": "ae3e1ffb",
   "metadata": {},
   "source": [
    "10. Write a program to multiply two matrices "
   ]
  },
  {
   "cell_type": "code",
   "execution_count": null,
   "id": "e9d3a47c",
   "metadata": {},
   "outputs": [
    {
     "name": "stdout",
     "output_type": "stream",
     "text": [
      "Multiply Two Matrices \n",
      "\n",
      "Enter elements of First Matrix (A):\n",
      "\n",
      "Enter elements of Second Matrix (B):\n",
      "Input Error: invalid literal for int() with base 10: '3.'\n"
     ]
    }
   ],
   "source": [
    "# ========== Assignment Solution==========\n",
    "print(\"Multiply Two Matrices \")\n",
    "try:\n",
    "    m = int(input(\"Enter number of rows for first matrix: \"))\n",
    "    n = int(input(\"Enter number of columns for first matrix: \"))\n",
    "    p = int(input(\"Enter number of columns for second matrix: \"))\n",
    "\n",
    "    \n",
    "    print(\"\\nEnter elements of First Matrix (A):\")\n",
    "    A = []\n",
    "    for i in range(m):\n",
    "        row = list(map(int, input(f\"Row {i+1}: \").split()))\n",
    "        A.append(row)\n",
    "\n",
    " \n",
    "    print(\"\\nEnter elements of Second Matrix (B):\")\n",
    "    B = []\n",
    "    for i in range(n):\n",
    "        row = list(map(int, input(f\"Row {i+1}: \").split()))\n",
    "        B.append(row)\n",
    "\n",
    "    \n",
    "    C = [[0 for _ in range(p)] for _ in range(m)]\n",
    "\n",
    "    for i in range(m):\n",
    "        for j in range(p):\n",
    "            for k in range(n):\n",
    "                C[i][j] += A[i][k] * B[k][j]\n",
    "\n",
    "    \n",
    "    print(\"\\nResultant Matrix (A × B):\")\n",
    "    for row in C:\n",
    "        print(row)\n",
    "\n",
    "except ValueError as ve:\n",
    "    print(f\"Input Error: {ve}\")\n",
    "except Exception as e:\n",
    "    print(f\"Error: {e}\")"
   ]
  },
  {
   "cell_type": "code",
   "execution_count": 11,
   "id": "37e42e99",
   "metadata": {},
   "outputs": [
    {
     "name": "stdout",
     "output_type": "stream",
     "text": [
      "[58, 64]\n",
      "[139, 154]\n"
     ]
    }
   ],
   "source": [
    "# Function to multiply two matrices\n",
    "def multiply_matrices(A, B):\n",
    "    # Get the number of rows and columns of A and B\n",
    "    rows_A = len(A)\n",
    "    cols_A = len(A[0])\n",
    "    rows_B = len(B)\n",
    "    cols_B = len(B[0])\n",
    "\n",
    "    # Check if multiplication is possible (columns of A must be equal to rows of B)\n",
    "    if cols_A != rows_B:\n",
    "        return \"Multiplication not possible. The number of columns of A must be equal to the number of rows of B.\"\n",
    "\n",
    "    # Initialize the result matrix with zeros\n",
    "    result = [[0 for _ in range(cols_B)] for _ in range(rows_A)]\n",
    "\n",
    "    # Multiply the matrices\n",
    "    for i in range(rows_A):\n",
    "        for j in range(cols_B):\n",
    "            for k in range(cols_A):\n",
    "                result[i][j] += A[i][k] * B[k][j]\n",
    "\n",
    "    return result\n",
    "\n",
    "# Example matrices\n",
    "A = [\n",
    "    [1, 2, 3],\n",
    "    [4, 5, 6]\n",
    "]\n",
    "\n",
    "B = [\n",
    "    [7,   8],\n",
    "    [9,  10],\n",
    "    [11, 12]\n",
    "]\n",
    "\n",
    "# Multiply matrices A and B\n",
    "result = multiply_matrices(A, B)\n",
    "\n",
    "# Display the result\n",
    "for row in result:\n",
    "    print(row)\n"
   ]
  },
  {
   "cell_type": "code",
   "execution_count": null,
   "id": "bc6e23d1",
   "metadata": {},
   "outputs": [],
   "source": []
  }
 ],
 "metadata": {
  "kernelspec": {
   "display_name": "base",
   "language": "python",
   "name": "python3"
  },
  "language_info": {
   "codemirror_mode": {
    "name": "ipython",
    "version": 3
   },
   "file_extension": ".py",
   "mimetype": "text/x-python",
   "name": "python",
   "nbconvert_exporter": "python",
   "pygments_lexer": "ipython3",
   "version": "3.13.5"
  }
 },
 "nbformat": 4,
 "nbformat_minor": 5
}
