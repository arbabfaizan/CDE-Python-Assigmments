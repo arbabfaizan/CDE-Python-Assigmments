{
 "cells": [
  {
   "cell_type": "markdown",
   "id": "9b71f135-66c6-4a17-91ef-27a8db7a0053",
   "metadata": {},
   "source": [
    "### Assignment 02 - Python Basics (Conditional Statements)\n",
    "- 1. A company decided to give bonus of 5% to employee if his/her year of service is more than 5 years. Ask user for their salary and year of service and print the net bonus amount."
   ]
  },
  {
   "cell_type": "code",
   "execution_count": 1,
   "id": "e35462a9-e69f-47f7-b220-42bf98c6150e",
   "metadata": {},
   "outputs": [
    {
     "name": "stdout",
     "output_type": "stream",
     "text": [
      "You're  Net Bonus Is 25.0\n"
     ]
    }
   ],
   "source": [
    "salary = int(input(\"Enter Your Salary:\"))\n",
    "year = int(input(\"Enter Year Of Your Service\"))\n",
    "if year > 5:\n",
    "     bonus = salary * 5 / 100 \n",
    "     print(f\"You're  Net Bonus Is {bonus}\")\n",
    "else:\n",
    " print(\"You're Not  Eligible For Yearly Bounus\")"
   ]
  },
  {
   "cell_type": "markdown",
   "id": "d8dd01b0-1f01-4a12-920f-8870f75b7403",
   "metadata": {},
   "source": [
    "### 2.Write a program to check whether a person is eligible for voting or not. (accept age from user) if age is greater than 17 eligible otherwise not eligible"
   ]
  },
  {
   "cell_type": "code",
   "execution_count": null,
   "id": "cb009fac-e07b-4e4e-9528-d5e56068e369",
   "metadata": {},
   "outputs": [
    {
     "name": "stdout",
     "output_type": "stream",
     "text": [
      "You're Not Eligile For Voting \n"
     ]
    }
   ],
   "source": [
    "age = int(input(\"Enter Your Age:\"))\n",
    "if age > 17:\n",
    "    print(\"You're Eligible For Voting\")\n",
    "else:\n",
    "  print(\"You're Not Eligile For Voting \")"
   ]
  },
  {
   "cell_type": "markdown",
   "id": "e2dce3d4-0fae-4e44-bc50-78185425cfaa",
   "metadata": {},
   "source": [
    "### 3.Write a program to check whether a number entered by user is even or odd."
   ]
  },
  {
   "cell_type": "code",
   "execution_count": null,
   "id": "df54e83f-5b69-4ce5-9e93-e032168f6518",
   "metadata": {},
   "outputs": [
    {
     "name": "stdout",
     "output_type": "stream",
     "text": [
      "You're Provided Number Is Odd\n"
     ]
    }
   ],
   "source": [
    "\n",
    "num = int(input(\"Enter Number For Checking You're Provided NUmber IS Even or Odd:\"))\n",
    "if num % 2 == 0:\n",
    "    print(\"You're Provided Number Is Even\")\n",
    "else:\n",
    "    print(\"You're Provided Number Is Odd\")"
   ]
  },
  {
   "cell_type": "markdown",
   "id": "2d33593d-a759-4e62-b132-286186a1bf41",
   "metadata": {},
   "source": [
    "### 4.Write a program to check whether a number is divisible by 7 or not. Show Answer"
   ]
  },
  {
   "cell_type": "code",
   "execution_count": null,
   "id": "62a39834-aceb-4eea-8f49-75a007c506f9",
   "metadata": {},
   "outputs": [
    {
     "name": "stdout",
     "output_type": "stream",
     "text": [
      "You're Provided Number Is Divisible By 7\n"
     ]
    }
   ],
   "source": [
    "num = int(input(\"Enter Number For Checking You're Provided Number Is Divisible By 7 Or Not:\"))\n",
    "if num % 7 == 0:\n",
    "    print(\"You're Provided Number Is Divisible By 7\")\n",
    "else:\n",
    "    print(\"You're Provided Number Is not  Divisible By 7\")"
   ]
  },
  {
   "cell_type": "markdown",
   "id": "c65d76ce-d3c7-42b1-833e-85ff3489daad",
   "metadata": {},
   "source": [
    "### 5.Write a program to display \"Hello\" if a number entered by user is a multiple of five , otherwise print \"Bye\"."
   ]
  },
  {
   "cell_type": "code",
   "execution_count": null,
   "id": "00f67ab9-dc19-433e-9b4f-c70672e5f96c",
   "metadata": {},
   "outputs": [
    {
     "name": "stdout",
     "output_type": "stream",
     "text": [
      "Bye\n"
     ]
    }
   ],
   "source": [
    "num = int(input(\"Enter Number:\"))\n",
    "if num % 5 == 0:\n",
    "    print(\"Hello\")\n",
    "    \n",
    "else:\n",
    "    print(\"Bye\")\n"
   ]
  },
  {
   "cell_type": "markdown",
   "id": "865040c5-a445-4006-b414-a151e353a3ee",
   "metadata": {},
   "source": [
    "### 6.Write a program to display the last digit of a number."
   ]
  },
  {
   "cell_type": "code",
   "execution_count": null,
   "id": "3ed9c425-efbe-4dea-bf1b-07d1ca28fb58",
   "metadata": {},
   "outputs": [
    {
     "name": "stdout",
     "output_type": "stream",
     "text": [
      "You're Last Digit is 7\n"
     ]
    }
   ],
   "source": [
    "num = str(input(\"Enter Number: \"))\n",
    "x = num[-1] \n",
    "# Using Indexing Method in Arrays\n",
    "\n",
    "# Positive Indexing:\n",
    "\n",
    "# Starts from the beginning of the array.\n",
    "\n",
    "# Index 0 → first element\n",
    "\n",
    "# Index 1 → second element\n",
    "\n",
    "# Negative Indexing:\n",
    "\n",
    "# Starts from the end of the array.\n",
    "\n",
    "# Index -1 → last element\n",
    "\n",
    "# Index -2 → second last element\n",
    "print(f\"You're Last Digit is {x}\")"
   ]
  },
  {
   "cell_type": "markdown",
   "id": "ff77cf2f-b532-419a-811c-d3b035035cd3",
   "metadata": {},
   "source": [
    "### 9.Take values of length and breadth of a rectangle from user and print if it is square or rectangle."
   ]
  },
  {
   "cell_type": "code",
   "execution_count": null,
   "id": "affee8e1-e5e4-4ec0-b7f2-c28575d6ec01",
   "metadata": {},
   "outputs": [
    {
     "name": "stdout",
     "output_type": "stream",
     "text": [
      "It Is Square\n"
     ]
    }
   ],
   "source": [
    "lengt = int(input(\"Enter Length For Checking Provided Number Is Square Or Rectangle:\"))\n",
    "breadth= int(input(\"Enter breadth For Checking Provided Number Is Square Or Rectangle:\"))\n",
    "if lengt == breadth :\n",
    "    print(\"It Is Square\")\n",
    "else:\n",
    "    print(\"It Is Rectangle\")"
   ]
  },
  {
   "cell_type": "markdown",
   "id": "05c258b1-a55d-47b5-be6a-c168ce7968d0",
   "metadata": {},
   "source": [
    "### 10.Take two int values from user and print greatest among them."
   ]
  },
  {
   "cell_type": "code",
   "execution_count": null,
   "id": "2843045e-b3e3-423d-a6f2-dc920b8ff20c",
   "metadata": {},
   "outputs": [
    {
     "name": "stdout",
     "output_type": "stream",
     "text": [
      "Greater Value Is: 888\n"
     ]
    }
   ],
   "source": [
    "value1 = int(input(\"Enter Value 1:\")) \n",
    "value2 = int(input (\"Enter Value 2:\"))\n",
    "if value1 > value2 :\n",
    "    print(f\"Greater Value Is: {value1}\")\n",
    "elif value2 > value1 :\n",
    "    print(f\"Greater Value Is: {value2}\")\n",
    "else:\n",
    "    print(\"Both Values Are Same\")"
   ]
  },
  {
   "cell_type": "markdown",
   "id": "83a37dbd",
   "metadata": {},
   "source": [
    "#### 11. A shop will give discount of 10% if the cost of purchased quantity is more than 1000. Ask user for quantity Suppose, one unit will cost 100. Judge and print total cost for user."
   ]
  },
  {
   "cell_type": "code",
   "execution_count": null,
   "id": "d8684c38-44db-47b3-83e6-36d6af2eaf4f",
   "metadata": {},
   "outputs": [
    {
     "name": "stdout",
     "output_type": "stream",
     "text": [
      "Total Cost After 10% Discount\n",
      "Total Cost Is: 799920\n"
     ]
    }
   ],
   "source": [
    "unit = 100\n",
    "quantity = int(input(\"Enter Quantity:\"))\n",
    "total_cost = unit * quantity\n",
    "if total_cost > 1000:\n",
    "    discount = total_cost * 0.10\n",
    "    total_cost = total_cost - discount\n",
    "    print(f\"Total Cost After 10% Discount\")\n",
    "else:\n",
    "    print(f\"Total Cost Is without discount\")\n",
    "    \n",
    "print(f\"Total Cost Is: {int(total_cost)}\")"
   ]
  },
  {
   "cell_type": "markdown",
   "id": "61a298d8",
   "metadata": {},
   "source": [
    "\n",
    "#### 12. A school has following rules for grading system:\n",
    "a. Below 25 - F\n",
    "\n",
    "b. 25 to 45 - E\n",
    "\n",
    "c. 45 to 50 - D\n",
    "\n",
    "d. 50 to 60 - C\n",
    "\n",
    "e. 60 to 80 - B\n",
    "\n",
    "f. Above 80 - A\n",
    "\n",
    "Ask user to enter marks and print the corresponding grade."
   ]
  },
  {
   "cell_type": "code",
   "execution_count": null,
   "id": "80e11960",
   "metadata": {},
   "outputs": [
    {
     "name": "stdout",
     "output_type": "stream",
     "text": [
      "Invalid Input! Please enter a number between 0 and 100.\n"
     ]
    }
   ],
   "source": [
    "# Own Statement For Grading System:\n",
    "try:\n",
    " marks = int(input(\"Enter You're Marks:\"))\n",
    " if marks >= 90 and marks <= 100 :\n",
    "    print(\"You're Grade Is: A+\")\n",
    " elif marks >= 80 and marks < 90 :\n",
    "    print(\"You're Grade Is: A\")\n",
    " elif marks >= 70 and marks < 80 :\n",
    "    print(\"You're Grade Is: B\")\n",
    " elif marks >= 60 and marks < 70 :\n",
    "    print(\"You're Grade Is: C\")\n",
    " elif marks >= 50 and marks < 60 :\n",
    "    print(\"You're Grade Is: D\")\n",
    " elif marks >= 40 and marks < 50 :\n",
    "    print(\"You're Grade Is: E\")\n",
    " elif marks >= 0 and marks < 40 :\n",
    "    print(\"You're Grade Is: F\")\n",
    " else :\n",
    "    print(\"You're Grade Is Not Defined Please Enter Valid Marks\")\n",
    "except ValueError: \n",
    "    print(\"Invalid Input! Please enter a number between 0 and 100.\")\n",
    "    "
   ]
  },
  {
   "cell_type": "code",
   "execution_count": 4,
   "id": "a413691d",
   "metadata": {},
   "outputs": [
    {
     "name": "stdout",
     "output_type": "stream",
     "text": [
      "\n",
      "******* Grading System ******\n",
      "C\n"
     ]
    }
   ],
   "source": [
    "# Assignment Solution For Grading System:\n",
    "print(\"\\n******* Grading System ******\")\n",
    "\n",
    "try:\n",
    "    marks = int(input(\"Enter Your Marks (0 To 100): \"))\n",
    "\n",
    "    if marks < 25:\n",
    "        print(\"F\")\n",
    "    elif marks >= 25 and marks < 45:\n",
    "        print(\"E\")\n",
    "    elif marks >= 45 and marks < 50:\n",
    "        print(\"D\")\n",
    "    elif marks >= 50 and marks < 60:\n",
    "        print(\"C\")\n",
    "    elif marks >= 60 and marks <= 80:\n",
    "        print(\"B\")\n",
    "    elif marks > 80 and marks <= 100:\n",
    "        print(\"A\")\n",
    "    else:\n",
    "        print(\"You're Grade Is Not Defined. Please Enter Valid Marks (0 To 100)\")\n",
    "        print(\"Thanks For Using Our Grading System\")\n",
    "\n",
    "except ValueError:\n",
    "    print(\"Invalid Input! Please enter a number between 0 and 100.\")\n"
   ]
  },
  {
   "cell_type": "markdown",
   "id": "63372403",
   "metadata": {},
   "source": [
    "14)A student will not be allowed to sit in exam if his/her attendence is less than 75%.\n",
    "\n",
    "Take following input from user\n",
    "\n",
    "Number of classes held\n",
    "\n",
    "Number of classes attended.\n",
    "\n",
    "And print\n",
    "\n",
    "percentage of class attended\n",
    "\n",
    "Is student is allowed to sit in exam or not."
   ]
  },
  {
   "cell_type": "code",
   "execution_count": 6,
   "id": "7c0ddac2",
   "metadata": {},
   "outputs": [
    {
     "name": "stdout",
     "output_type": "stream",
     "text": [
      "********** Attendance System **********\n",
      "\n",
      "Classes Held: 80, Attended: 20\n",
      "Your Attendance Percentage Is: 25.00%\n",
      "You are Not Allowed To Sit In The Exam Hall.\n",
      "Your Attendance Percentage Is Less Than 75%\n",
      "\n",
      "\n",
      "********** Thanks For Using **********\n"
     ]
    }
   ],
   "source": [
    "# ============== Assignment Solution ==============\n",
    "print(\"********** Attendance System **********\\n\")\n",
    "\n",
    "try:\n",
    "    cls_held = int(input(\"Enter Total Number Of Classes Held: \"))\n",
    "    cls_att = int(input(\"Enter Total Number Of Classes Attended: \"))\n",
    "\n",
    "    if cls_held <= 0:\n",
    "        print(\"Total classes held must be greater than 0.\")\n",
    "    elif cls_att < 0:\n",
    "        print(\"Classes attended cannot be negative.\")\n",
    "    elif cls_att > cls_held:\n",
    "        print(\"Classes attended cannot exceed classes held.\")\n",
    "    else:\n",
    "        attendance_per = (cls_att / cls_held) * 100\n",
    "        print(f\"Classes Held: {cls_held}, Attended: {cls_att}\")\n",
    "        print(f\"Your Attendance Percentage Is: {attendance_per:.2f}%\")\n",
    "     \n",
    "\n",
    "        if attendance_per >= 75:\n",
    "            print(\"You are Allowed To Sit In The Exam Hall\")\n",
    "            print(\"\\n\")\n",
    "            print(\"********** Thanks For Using **********\")\n",
    "            \n",
    "        else:\n",
    "            print(\"You are Not Allowed To Sit In The Exam Hall.\")\n",
    "            print(\"Your Attendance Percentage Is Less Than 75%\")\n",
    "            print(\"\\n\")\n",
    "            print(\"********** Thanks For Using **********\")\n",
    "except ValueError:\n",
    "    print(\"Invalid Input! Please Input Numbers Only.\")\n",
    "    print(\"\\n\")\n",
    "    print(\"********** Thanks For Using **********\")\n",
    "    \n"
   ]
  },
  {
   "cell_type": "markdown",
   "id": "89d911a4",
   "metadata": {},
   "source": [
    "15.Modify the above question to allow student to sit if he/she has medical cause. Ask user if he/she has medical cause or not ( 'Y' or 'N' ) and print accordingly."
   ]
  },
  {
   "cell_type": "code",
   "execution_count": 20,
   "id": "385cd6aa",
   "metadata": {},
   "outputs": [
    {
     "name": "stdout",
     "output_type": "stream",
     "text": [
      "********** Modified Attendance System **********\n",
      "\n",
      "Your Attendance Percentage Is: 25.00%\n",
      "Sorry! You are Not Allowed To Sit In The Exam Hall\n",
      "\n",
      "********** Thanks For Using **********\n"
     ]
    }
   ],
   "source": [
    "# ============== Assignment Solution ==============\n",
    "def final():\n",
    "    attendance = (cls_att / cls_held) * 100\n",
    "    print(f\"Your Attendance Percentage Is: {attendance:.2f}%\")\n",
    "\n",
    "    if attendance >= 75:\n",
    "        print(\"You are Allowed To Sit In The Exam Hall\")\n",
    "    else:\n",
    "        print(\"Sorry! You are Not Allowed To Sit In The Exam Hall\")\n",
    "\n",
    "print(\"********** Modified Attendance System **********\\n\")\n",
    "\n",
    "try:\n",
    "    cls_held = int(input(\"Enter Total Number Of Classes Held: \"))\n",
    "    cls_att = int(input(\"Enter Total Number Of Classes Attended: \"))\n",
    "    medical = input(\"Do You Have Medical Cause? (Y/N): \").strip().lower()\n",
    "\n",
    "    if medical == 'y':\n",
    "        print(\"You are Allowed To Sit In The Exam Hall Due To Medical Cause\")\n",
    "    else:\n",
    "        final()\n",
    "\n",
    "    print(\"\\n********** Thanks For Using **********\")\n",
    "\n",
    "except Exception as e:\n",
    "    print(\"Invalid Input! Please Enter Numbers Only For Classes.\")\n"
   ]
  },
  {
   "cell_type": "markdown",
   "id": "8612679b",
   "metadata": {},
   "source": [
    "16. Write a program to check if a year is leap year or not.\n",
    "If a year is divisible by 4 then it is leap year but if the year is century year like 2000, 1900, 2100 then it must be divisible by 400.\n",
    "    "
   ]
  },
  {
   "cell_type": "code",
   "execution_count": 30,
   "id": "1643a735",
   "metadata": {},
   "outputs": [
    {
     "name": "stdout",
     "output_type": "stream",
     "text": [
      "********** Leap Year Checker **********\n",
      "\n",
      "55 is NOT a Leap Year\n",
      "\n",
      "Thanks For Using Leap Year Checker\n"
     ]
    }
   ],
   "source": [
    "# ============== Assignment Solution ==============\n",
    "print(\"********** Leap Year Checker **********\\n\")\n",
    "\n",
    "try:\n",
    "    year = int(input(\"Enter Any Year: \"))\n",
    "\n",
    "    if (year % 400 == 0):   \n",
    "        print(f\"{year} is a Leap Year \")\n",
    "\n",
    "    elif (year % 100 == 0): \n",
    "        print(f\"{year} is NOT a Leap Year\")\n",
    "\n",
    "    elif (year % 4 == 0): \n",
    "        print(f\"{year} is a Leap Year\")\n",
    "\n",
    "    else:   \n",
    "        \n",
    "        print(f\"{year} is NOT a Leap Year\")\n",
    "\n",
    "    print(\"\\nThanks For Using Leap Year Checker\")\n",
    "\n",
    "except ValueError:\n",
    "    print(\"Invalid Input! Please Enter a Valid Year.\")\n"
   ]
  },
  {
   "cell_type": "markdown",
   "id": "c3a03a1a",
   "metadata": {},
   "source": [
    "Ask user to enter age, gender ( M or F ), marital status ( Y or N ) and then using following rules print their place of service.\n",
    "if employee is female, then she will work only in urban areas.\n",
    "\n",
    "if employee is a male and age is in between 20 to 40 then he may work in anywhere\n",
    "\n",
    "if employee is male and age is in between 40 t0 60 then he will work in urban areas only.\n",
    "\n",
    "And any other input of age should print \"ERROR\""
   ]
  },
  {
   "cell_type": "code",
   "execution_count": 32,
   "id": "db9a79a9",
   "metadata": {},
   "outputs": [
    {
     "name": "stdout",
     "output_type": "stream",
     "text": [
      "********** Employee Service Location Checker **********\n",
      "\n",
      "You Will Work Only In Urban Areas\n",
      "\n",
      "Thanks For Using Employee Service Location Checker\n"
     ]
    }
   ],
   "source": [
    "# ============== Assignment Solution ==============\n",
    "\n",
    "print(\"********** Employee Service Location Checker **********\\n\")\n",
    "\n",
    "try:\n",
    "    age = int(input(\"Enter Your Age: \"))\n",
    "    gender = input(\"Enter Your gender (M/F): \").strip().upper()\n",
    "    marital_status = input(\"Enter Your Marital Status (Y/N): \").strip().upper()\n",
    "    \n",
    "    if gender == 'F':\n",
    "        print(\"You Will Work Only In Urban Areas\")\n",
    "    \n",
    "    elif gender == 'M' and (age >= 20 and age < 40):\n",
    "        print(\"You May Work Anywhere\")\n",
    "    \n",
    "    elif gender == 'M' and (age >= 40 and age <= 60):\n",
    "        print(\"You Will Work In Urban Areas Only\")\n",
    "    \n",
    "    else:\n",
    "        print(\"ERROR: Age Not Valid\")\n",
    "\n",
    "    print(\"\\nThanks For Using Employee Service Location Checker\")\n",
    "\n",
    "except ValueError:\n",
    "    print(\"Invalid Input! Please Enter Valid Data.\")\n"
   ]
  },
  {
   "cell_type": "markdown",
   "id": "38488692",
   "metadata": {},
   "source": [
    "18. Write a program to calculate the electricity bill (accept number of unit from user) according to the following criteria : Unit Price\n",
    "uptp 100 units no charge Next 200 units Rs 5 per unit After 200 units Rs 10 per unit (For example if input unit is 350 than total bill amount is Rs.3500 (For example if input unit is 97 than total bill amount is Rs.0 (For example if input unit is 150 than total bill amount is Rs.750"
   ]
  },
  {
   "cell_type": "code",
   "execution_count": 43,
   "id": "0fb9b518",
   "metadata": {},
   "outputs": [
    {
     "name": "stdout",
     "output_type": "stream",
     "text": [
      "********** Electricity Bill Calculator **********\n",
      "\n",
      "Invalid Input! Please Enter A Valid Number Of Units.\n"
     ]
    }
   ],
   "source": [
    "# ================= Assignment Solution =================\n",
    "print(\"********** Electricity Bill Calculator **********\\n\")\n",
    "\n",
    "try:\n",
    "    unit = int(input(\"Enter Number Of Units Consumed: \"))\n",
    "\n",
    "    if unit <= 100:\n",
    "        total_bill = 0\n",
    "    elif unit <= 300:\n",
    "        total_bill = (unit - 100) * 5\n",
    "    else:\n",
    "        total_bill = (200 * 5) + (unit - 300) * 10\n",
    "    \n",
    "    print(f\"\\nTotal Units Consumed: {unit} units\")\n",
    "    print(f\"\\nTotal Bill Amount is: Rs.{total_bill}\")\n",
    "    print(\"\\nThanks For Using Electricity Bill Calculator\")\n",
    "\n",
    "except ValueError:\n",
    "    print(\"Invalid Input! Please Enter A Valid Number Of Units.\")\n"
   ]
  },
  {
   "cell_type": "markdown",
   "id": "a87aca27",
   "metadata": {},
   "source": [
    "19. Take input of age of 3 people by user and determine oldest and youngest among them."
   ]
  },
  {
   "cell_type": "code",
   "execution_count": 50,
   "id": "2d6771f3",
   "metadata": {},
   "outputs": [
    {
     "name": "stdout",
     "output_type": "stream",
     "text": [
      "********** Oldest and Youngest Person Finder **********\n",
      "\n",
      "Please Enter A Valid Number For Age.\n",
      "\n",
      "Thanks For Using Oldest and Youngest Person Finder\n"
     ]
    }
   ],
   "source": [
    "# ================= Assignment Solution =================\n",
    "print(\"********** Oldest and Youngest Person Finder **********\\n\")\n",
    "\n",
    "try:\n",
    "    age = []\n",
    "    for i in range(3):\n",
    "        person = int(input(f\"Enter Age Of Person {i + 1}: \"))\n",
    "        age.append(person)  \n",
    "\n",
    "    oldest = max(age)       \n",
    "    youngest = min(age)     \n",
    "\n",
    "    print(f\"Oldest Person Age Is: {oldest}\")\n",
    "    print(f\"Youngest Person Age Is: {youngest}\")\n",
    "    print(\"\\nThanks For Using Oldest and Youngest Person Finder\")\n",
    "\n",
    "except ValueError:\n",
    "    print(\"Please Enter A Valid Number For Age.\")\n",
    "    print(\"\\nThanks For Using Oldest and Youngest Person Finder\")"
   ]
  },
  {
   "cell_type": "code",
   "execution_count": null,
   "id": "4090e91f",
   "metadata": {},
   "outputs": [],
   "source": []
  },
  {
   "cell_type": "code",
   "execution_count": null,
   "id": "995db139",
   "metadata": {},
   "outputs": [],
   "source": []
  },
  {
   "cell_type": "code",
   "execution_count": null,
   "id": "51d12ab1",
   "metadata": {},
   "outputs": [],
   "source": []
  }
 ],
 "metadata": {
  "kernelspec": {
   "display_name": "base",
   "language": "python",
   "name": "python3"
  },
  "language_info": {
   "codemirror_mode": {
    "name": "ipython",
    "version": 3
   },
   "file_extension": ".py",
   "mimetype": "text/x-python",
   "name": "python",
   "nbconvert_exporter": "python",
   "pygments_lexer": "ipython3",
   "version": "3.13.5"
  }
 },
 "nbformat": 4,
 "nbformat_minor": 5
}
