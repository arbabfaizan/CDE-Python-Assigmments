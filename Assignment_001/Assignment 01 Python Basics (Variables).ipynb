{
 "cells": [
  {
   "cell_type": "markdown",
   "id": "3c1b7caa-0f26-4e18-bbda-056d2faf5761",
   "metadata": {},
   "source": [
    "\n",
    "# Assignment 01 - Python Basics (Variables)\n",
    "- 1-Print Your Name with your Father name and Date of birth using suitable escape sequence charactor"
   ]
  },
  {
   "cell_type": "code",
   "execution_count": 4,
   "id": "84f0b315-d80a-4a00-9a1e-5b7bd7820d84",
   "metadata": {},
   "outputs": [],
   "source": [
    "name = \"Muhammad Faizan\"\n",
    "father_name = \"Abdul Sattar\"\n",
    "dob = \"11-JulyMarch-1995\"\n",
    "city = \"Karachi\""
   ]
  },
  {
   "cell_type": "code",
   "execution_count": 5,
   "id": "589b02a3-cbcb-4db0-b40f-53173789443f",
   "metadata": {},
   "outputs": [
    {
     "name": "stdout",
     "output_type": "stream",
     "text": [
      "Name:\t Muhammad Faizan\n",
      "Father's Name:\t Abdul Sattar\n",
      "Date of Birth:\t 11-JulyMarch-1995\n",
      "I lives in:\t Karachi\n"
     ]
    }
   ],
   "source": [
    "print(\"Name:\\t\", name)\n",
    "print(\"Father's Name:\\t\", father_name)\n",
    "print(\"Date of Birth:\\t\", dob)\n",
    "print(\"I lives in:\\t\", city)\n"
   ]
  },
  {
   "cell_type": "code",
   "execution_count": 6,
   "id": "b86be85a-ea4f-44a4-aa91-803636825bc1",
   "metadata": {},
   "outputs": [
    {
     "name": "stdout",
     "output_type": "stream",
     "text": [
      "********* Bio Data *********\n",
      "Name:\t\t\tMuhammad Faizan\n",
      "Father's Name:\t\tAbdul Sattar\n",
      "Date of Birth:\t\t11-JulyMarch-1995\n",
      "I Lives in:\t\t Karachi\n",
      "****************************\n"
     ]
    }
   ],
   "source": [
    "print(\"********* Bio Data *********\")\n",
    "print(\"Name:\\t\\t\\t\" + name)\n",
    "print(\"Father\\'s Name:\\t\\t\" + father_name)\n",
    "print(\"Date of Birth:\\t\\t\" + dob)\n",
    "print(\"I Lives in:\\t\\t\", city)\n",
    "print(\"****************************\")\n"
   ]
  },
  {
   "cell_type": "markdown",
   "id": "31df8af1-bc85-40de-bdce-18bdc777a8ca",
   "metadata": {},
   "source": [
    "#### 2-Write your small bio using variables and print it using print function"
   ]
  },
  {
   "cell_type": "code",
   "execution_count": 8,
   "id": "8a2d4acf-1a84-467f-bf1f-0a438a37ff66",
   "metadata": {},
   "outputs": [],
   "source": [
    "name = \"Muhammad Faizan\"\n",
    "father_name = \"Abdul Sattar\"\n",
    "dob = \"11-July-1995\"\n",
    "city = \"Karachi\"\n"
   ]
  },
  {
   "cell_type": "code",
   "execution_count": 9,
   "id": "73fb8438-842b-459b-8d04-d5c7353f37dc",
   "metadata": {},
   "outputs": [
    {
     "name": "stdout",
     "output_type": "stream",
     "text": [
      " ..........Bio Data...........\n",
      "My Name Is: Muhammad Faizan\n",
      "My Father Name Is: Abdul Sattar\n",
      "My Date Of Birth Is: 11-July-1995\n",
      "I Lives In: Karachi \n",
      "...........................\n",
      "\n",
      "\n",
      "\n"
     ]
    }
   ],
   "source": [
    "print(f\"\"\" ..........Bio Data...........\n",
    "My Name Is: {name}\n",
    "My Father Name Is: {father_name}\n",
    "My Date Of Birth Is: {dob}\n",
    "I Lives In: {city} \n",
    "...........................\n",
    "\n",
    "\n",
    "\"\"\")"
   ]
  },
  {
   "cell_type": "markdown",
   "id": "f16f8f06-f496-46fc-9ca9-29c18072fb75",
   "metadata": {},
   "source": [
    "#### 3-Write a program in which use all the operators we can use in Python"
   ]
  },
  {
   "cell_type": "code",
   "execution_count": 6,
   "id": "0bc11ae2-bdde-44ad-95bd-7d8c4e97efa3",
   "metadata": {},
   "outputs": [
    {
     "name": "stdout",
     "output_type": "stream",
     "text": [
      "10\n",
      "5\n",
      "\n",
      "--- Arithmetic Operators ---\n",
      "Addition (a + b): 15\n",
      "Subtraction (a - b): 5\n",
      "Multiplication (a * b): 50\n",
      "Division (a / b): 2.0\n",
      "Floor Division (a // b): 2\n",
      "Modulus (a % b): 0\n",
      "Exponent (a ** b): 100000\n",
      "\n",
      "--- Comparison Operators ---\n",
      "only check value of equals to (a == b): False\n",
      "not equals to (a != b): True\n",
      "less than (a < b): False\n",
      "greater than (a > b ): True\n",
      "value should same and  greater than (a >= b) True\n",
      "value should same and less than (a <= b): False\n"
     ]
    }
   ],
   "source": [
    "# ====================\n",
    "# Operators In Python\n",
    "# ====================\n",
    "# 1. Arithmetic Operators \n",
    "a = 10\n",
    "b = 5\n",
    "print(a)\n",
    "print(b)\n",
    "print(\"\\n--- Arithmetic Operators ---\") \n",
    "print(\"Addition (a + b):\", a +b)\n",
    "print(\"Subtraction (a - b):\", a - b)\n",
    "print(\"Multiplication (a * b):\", a * b)\n",
    "print(\"Division (a / b):\", a / b )\n",
    "print(\"Floor Division (a // b):\", a // b)\n",
    "print(\"Modulus (a % b):\", a % b)\n",
    "print(\"Exponent (a ** b):\", a ** b )\n",
    "\n",
    "\n",
    "# 2. Comparison Operators = this operator check values are same or not True/False Method\n",
    "\n",
    "print(\"\\n--- Comparison Operators ---\")\n",
    "print(\"only check value of equals to (a == b):\", a == b)\n",
    "print(\"not equals to (a != b):\", a != b)\n",
    "print(\"less than (a < b):\", a < b)\n",
    "print(\"greater than (a > b ):\", a > b)\n",
    "print(\"value should same and  greater than (a >= b)\", a >= b)\n",
    "print(\"value should same and less than (a <= b):\", a <= b)\n",
    "\n"
   ]
  },
  {
   "cell_type": "markdown",
   "id": "be8aa993-49c0-4532-9327-d697f7d4b196",
   "metadata": {},
   "source": [
    "\n",
    " ##### Completes the following steps of small task:\n",
    "- Mention Marks of English , Islamiat and Maths out of 100 in 3 different variables\n",
    "- Mention Variable of Total Marks and assign 300 to it\n",
    "- Calculate Percentage"
   ]
  },
  {
   "cell_type": "code",
   "execution_count": 7,
   "id": "b671e3b2-cef5-4b44-b155-0f58de0a7ba9",
   "metadata": {},
   "outputs": [
    {
     "name": "stdout",
     "output_type": "stream",
     "text": [
      "Enter Your English Marks: 55\n",
      "Enter Your Math's Marks: 55\n",
      "Enter Your Islamiat Marks: 66\n"
     ]
    },
    {
     "name": "stdout",
     "output_type": "stream",
     "text": [
      "Your Marks 176 Out Of 300 And Your Percentage Is 58.666666666666664\n"
     ]
    }
   ],
   "source": [
    "sub1 = int(input(\"Enter Your English Marks:\"))\n",
    "sub2 = int(input(\"Enter Your Math's Marks:\"))\n",
    "sub3 = int(input(\"Enter Your Islamiat Marks:\"))\n",
    "\n",
    "obtained_marks  =  sub1 + sub2 + sub3\n",
    "\n",
    "total_marks = 300\n",
    "\n",
    "per = obtained_marks / total_marks * 100\n",
    "\n",
    "\n",
    "print(f\"Your Marks {obtained_marks} Out Of {total_marks} And Your Percentage Is {per}\")\n"
   ]
  },
  {
   "cell_type": "code",
   "execution_count": null,
   "id": "b526d021-2de4-45d3-ad5a-c04e4d224cc5",
   "metadata": {},
   "outputs": [],
   "source": []
  }
 ],
 "metadata": {
  "kernelspec": {
   "display_name": "base",
   "language": "python",
   "name": "python3"
  },
  "language_info": {
   "codemirror_mode": {
    "name": "ipython",
    "version": 3
   },
   "file_extension": ".py",
   "mimetype": "text/x-python",
   "name": "python",
   "nbconvert_exporter": "python",
   "pygments_lexer": "ipython3",
   "version": "3.13.5"
  }
 },
 "nbformat": 4,
 "nbformat_minor": 5
}
